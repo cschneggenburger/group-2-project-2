{
 "cells": [
  {
   "cell_type": "code",
   "execution_count": null,
   "metadata": {},
   "outputs": [],
   "source": [
    "#Dependencies\n",
    "import pandas as pd\n",
    "import numpy as np\n",
    "from sklearn.model_selection import train_test_split\n",
    "from sklearn.metrics import classification_report\n",
    "from sklearn.metrics import accuracy_score\n",
    "from sklearn.ensemble import RandomForestClassifier\n",
    "from sklearn.model_selection import GridSearchCV\n",
    "from sklearn.model_selection import cross_val_score\n",
    "from sklearn.ensemble import GradientBoostingClassifier\n"
   ]
  },
  {
   "cell_type": "code",
   "execution_count": null,
   "metadata": {},
   "outputs": [],
   "source": [
    "#load in datasets\n",
    "matches = pd.read_csv(\"Resources/epl_matches_combined.csv\", index_col=0) \n",
    "matches.head()\n"
   ]
  },
  {
   "cell_type": "code",
   "execution_count": null,
   "metadata": {},
   "outputs": [],
   "source": [
    "# #random forest classifierf\n",
    "# Define the list of predictors including venue code, opponent code, hour, and day code.\n",
    "predictors = ['venue_code', 'opp_code', 'hour', 'day_code','team_code','last_3_results','last_3_results_2', 'xg', 'xga', 'xg_2', 'xga_2' ]\n",
    "            #'formation_code','last_3_results','last_3_results_2'\n",
    "            #  'formation_code_2', \n",
    "            #  , 'last_3_gf', 'last_3_ga','last_3_avg_poss', 'last_3_avg_sot', 'last_3_gd', \n",
    "            #  ,'last_3_gf_2', 'last_3_ga_2', 'last_3_avg_poss_2', 'last_3_avg_sot_2','opp_last_3_gd', \n",
    "            #  'last_3_gd_diff', 'last_3_avg_poss_diff','last_3_avg_sot_diff', 'last_3_results_diff'"
   ]
  },
  {
   "cell_type": "markdown",
   "metadata": {},
   "source": [
    "# Prediction Based on User Selection"
   ]
  },
  {
   "cell_type": "code",
   "execution_count": null,
   "metadata": {},
   "outputs": [],
   "source": [
    "#turns the user input into a dataframe\n",
    "user_input_columns = [\"venue_code\", \"opp_code\", \"hour\", \"day_code\", 'team_code']\n",
    "user_input = pd.read_csv(\"/c:/Users/crcla/AI_Activities/group-2-project-2/Presentation/Resources/user_input.csv\")\n",
    "user_input\n"
   ]
  },
  {
   "cell_type": "code",
   "execution_count": null,
   "metadata": {},
   "outputs": [],
   "source": [
    "team_1_columns = ['Team_1','formation_code',\n",
    "'last_3_results',\n",
    "'last_3_gf',\n",
    "'last_3_ga',\n",
    "'last_3_avg_poss',\n",
    "'last_3_avg_sot', 'date']\n",
    "\n",
    "\n",
    "team_2_columns= ['Team_2','formation_code_2',\n",
    "                'last_3_results_2',\n",
    "                'last_3_gf_2', \n",
    "                'last_3_ga_2', \n",
    "                'last_3_avg_poss_2', \n",
    "                'last_3_avg_sot_2', 'date']\n",
    "\n"
   ]
  },
  {
   "cell_type": "code",
   "execution_count": null,
   "metadata": {},
   "outputs": [],
   "source": [
    "# Defining the teams list and their corresponding codes\n",
    "teams_list = ['Arsenal', 'Aston Villa',\n",
    "              'Bournemouth', 'Brentford', 'Brighton and Hove Albion', 'Burnley',\n",
    "              'Cardiff City', 'Chelsea', 'Crystal Palace',\n",
    "              'Everton',\n",
    "              'Fulham',\n",
    "              'Huddersfield Town',\n",
    "              'Leeds United', 'Leicester City', 'Liverpool', 'Luton Town',\n",
    "              'Manchester City', 'Manchester United',\n",
    "              'Newcastle United', 'Norwich City', 'Nottingham Forest',\n",
    "              'Sheffield United', 'Southampton',\n",
    "              'Tottenham Hotspur',\n",
    "              'Watford', 'West Bromwich Albion', 'West Ham United', 'Wolverhampton Wanderers'\n",
    "              ]"
   ]
  },
  {
   "cell_type": "code",
   "execution_count": null,
   "metadata": {},
   "outputs": [],
   "source": [
    "def process_user_input(user_input, teams_list, matches, team_1_columns, team_2_columns, opponent_column_headings, user_input_columns):\n",
    "    \"\"\"\n",
    "    Process user input and create dataframes for team 1, team 2, and user input.\n",
    "\n",
    "    Args:\n",
    "        user_input (DataFrame): User input data.\n",
    "        teams_list (list): List of team names.\n",
    "        matches (DataFrame): Dataframe containing match data.\n",
    "        team_1_columns (list): List of column names for team 1 data.\n",
    "        team_2_columns (list): List of column names for team 2 data.\n",
    "        opponent_column_headings (list): List of column names for opponent data.\n",
    "        user_input_columns (list): List of column names for user input data.\n",
    "\n",
    "    Returns:\n",
    "        team_1_last_values (DataFrame): Dataframe containing the last values for team 1.\n",
    "        team_2_last_values (DataFrame): Dataframe containing the last values for team 2.\n",
    "        user_input_df (DataFrame): Dataframe containing the user input data.\n",
    "    \"\"\"\n",
    "    # Get team 1 name from user input and retrieve corresponding data from matches dataframe\n",
    "    team_1_name = teams_list[user_input[\"team_code\"].values[0] - 1]\n",
    "    team_1_data = matches.loc[matches['Team_1'] == team_1_name, team_1_columns]\n",
    "\n",
    "    # Get team 2 name from user input and retrieve corresponding data from matches dataframe\n",
    "    team_2_name = teams_list[user_input[\"opp_code\"].values[0] - 1]\n",
    "    team_2_data = matches.loc[matches['Team_2'] == team_2_name, team_2_columns]\n",
    "\n",
    "    # Get the last row of team 1 data\n",
    "    last_values_1 = team_1_data.iloc[0]\n",
    "\n",
    "    # Get the last row of team 2 data\n",
    "    last_values_2 = team_2_data.iloc[0]\n",
    "\n",
    "    # Create a new DataFrame with the last values of team 1 using the 'team_1_columns' as column names\n",
    "    team_1_last_values = pd.DataFrame(last_values_1.values.reshape(1, -1), columns=team_1_columns)\n",
    "\n",
    "    # Create a new DataFrame with the last values of team 2 using the 'opponent_column_headings' as column names\n",
    "    team_2_last_values = pd.DataFrame(last_values_2.values.reshape(1, -1), columns=team_2_columns)\n",
    "\n",
    "    # Create a new DataFrame with the user input using the 'user_input_columns' as column names\n",
    "    user_input_df = pd.DataFrame(np.array(user_input).reshape(1, -1), columns=user_input_columns)\n",
    "\n",
    "    return team_1_last_values, team_2_last_values, user_input_df\n"
   ]
  },
  {
   "cell_type": "code",
   "execution_count": null,
   "metadata": {},
   "outputs": [],
   "source": [
    "def concatenate_dataframes(user_input_df, team_1_last_values, team_2_last_values):\n",
    "    \"\"\"\n",
    "    Concatenates the 'user_input_df', 'team_1_last_values', and 'team_2_last_values' DataFrames along the columns.\n",
    "\n",
    "    Parameters:\n",
    "    user_input_df (pandas.DataFrame): The DataFrame containing user input data.\n",
    "    team_1_last_values (pandas.DataFrame): The DataFrame containing last values for team 1.\n",
    "    team_2_last_values (pandas.DataFrame): The DataFrame containing last values for team 2.\n",
    "\n",
    "    Returns:\n",
    "    pandas.DataFrame: The combined DataFrame with all the input and last values.\n",
    "\n",
    "    \"\"\"\n",
    "    combined_df = pd.concat([user_input_df, team_1_last_values, team_2_last_values], axis=1)\n",
    "    return combined_df\n",
    "\n",
    "# Example usage:\n",
    "combined_df = concatenate_dataframes(user_input_df, team_1_last_values, team_2_last_values)\n",
    "combined_df\n"
   ]
  },
  {
   "cell_type": "code",
   "execution_count": null,
   "metadata": {},
   "outputs": [],
   "source": [
    "#Calculate the comparison stats and add them to the dataframecomparison Stats\n",
    "def calculate_differentials(combined_df, window):\n",
    "    \"\"\"\n",
    "    Calculates the differentials between various statistics for a given window of matches.\n",
    "\n",
    "    Parameters:\n",
    "    combined_df (DataFrame): The combined dataframe containing the match statistics.\n",
    "    window (int): The number of previous matches to consider for calculating the differentials.\n",
    "\n",
    "    Returns:\n",
    "    DataFrame: The combined dataframe with additional columns representing the differentials.\n",
    "\n",
    "    \"\"\"\n",
    "    # Calculate the stat difference between the team and the opponent\n",
    "    combined_df['last_{}_gd'.format(window)] = combined_df['last_{}_gf'.format(window)] - combined_df['last_{}_ga'.format(window)]\n",
    "    combined_df['opp_last_{}_gd'.format(window)] = combined_df['last_{}_gf_2'.format(window)] - combined_df['last_{}_ga_2'.format(window)]\n",
    "    combined_df['last_{}_gd_diff'.format(window)] = combined_df['last_{}_gd'.format(window)] - combined_df['opp_last_{}_gd'.format(window)]\n",
    "    combined_df['last_{}_avg_poss_diff'.format(window)] = combined_df['last_{}_avg_poss'.format(window)] - combined_df['last_{}_avg_poss_2'.format(window)]\n",
    "    combined_df['last_{}_avg_sot_diff'.format(window)] = combined_df['last_{}_avg_sot'.format(window)] - combined_df['last_{}_avg_sot_2'.format(window)]\n",
    "    combined_df['last_{}_results_diff'.format(window)] = combined_df['last_{}_results'.format(window)] - combined_df['last_{}_results_2'.format(window)]\n",
    "    return combined_df\n",
    "\n",
    "\n",
    "combined_df = calculate_differentials(combined_df, 3)\n",
    "combined_df.head()"
   ]
  },
  {
   "cell_type": "code",
   "execution_count": null,
   "metadata": {},
   "outputs": [],
   "source": [
    "#rearrange the columns to match the order of the predictors\n",
    "combined_df = combined_df[predictors]"
   ]
  },
  {
   "cell_type": "code",
   "execution_count": null,
   "metadata": {},
   "outputs": [],
   "source": [
    "preds = rf_model.predict(combined_df)\n",
    "preds"
   ]
  }
 ],
 "metadata": {
  "kernelspec": {
   "display_name": "dev",
   "language": "python",
   "name": "python3"
  },
  "language_info": {
   "codemirror_mode": {
    "name": "ipython",
    "version": 3
   },
   "file_extension": ".py",
   "mimetype": "text/x-python",
   "name": "python",
   "nbconvert_exporter": "python",
   "pygments_lexer": "ipython3",
   "version": "3.10.13"
  }
 },
 "nbformat": 4,
 "nbformat_minor": 2
}
