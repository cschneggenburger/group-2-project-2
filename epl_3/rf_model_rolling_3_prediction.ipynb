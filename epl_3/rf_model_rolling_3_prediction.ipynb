{
 "cells": [
  {
   "cell_type": "code",
   "execution_count": null,
   "metadata": {},
   "outputs": [],
   "source": [
    "#Dependencies\n",
    "import pandas as pd\n",
    "import numpy as np\n",
    "from sklearn.model_selection import train_test_split\n",
    "from sklearn.metrics import classification_report\n",
    "from sklearn.metrics import accuracy_score\n",
    "from sklearn.ensemble import RandomForestClassifier\n",
    "from sklearn.model_selection import GridSearchCV\n",
    "from sklearn.model_selection import cross_val_score\n"
   ]
  },
  {
   "cell_type": "markdown",
   "metadata": {},
   "source": [
    "# Prediction Based on User Selection"
   ]
  },
  {
   "cell_type": "markdown",
   "metadata": {},
   "source": [
    "This code used the user input to build the prediction dataframe and pass it into the RandomForest Classfer model"
   ]
  },
  {
   "cell_type": "code",
   "execution_count": null,
   "metadata": {},
   "outputs": [],
   "source": [
    "#turns the user input into a dataframe\n",
    "user_input_columns = [\"venue_code\", \"opp_code\", \"hour\", \"day_code\", 'team_code']\n",
    "user_input = pd.read_csv(\"user_input.csv\")\n",
    "user_input\n"
   ]
  },
  {
   "cell_type": "code",
   "execution_count": null,
   "metadata": {},
   "outputs": [],
   "source": [
    "team_1_columns = [\n",
    "'last_3_results',\n",
    "'last_3_gf',\n",
    "'last_3_ga',\n",
    "'last_3_avg_poss']\n",
    "\n",
    "\n",
    "team_2_columns= ['last_3_results',\n",
    "'last_3_gf',\n",
    "'last_3_ga',\n",
    "'last_3_avg_poss']\n",
    "\n",
    "opponent_columns_heading = ['opp_last_3_results',\n",
    "'opp_last_3_gf',\n",
    "'opp_last_3_ga',\n",
    "'opp_last_3_avg_poss']"
   ]
  },
  {
   "cell_type": "code",
   "execution_count": null,
   "metadata": {},
   "outputs": [],
   "source": [
    "# Defining the teams list and their corresponding codes\n",
    "teams_list = ['Arsenal', 'Aston Villa',\n",
    "              'Bournemouth', 'Brentford', 'Brighton and Hove Albion', 'Burnley',\n",
    "              'Cardiff City', 'Chelsea', 'Crystal Palace',\n",
    "              'Everton',\n",
    "              'Fulham',\n",
    "              'Huddersfield Town',\n",
    "              'Leeds United', 'Leicester City', 'Liverpool', 'Luton Town',\n",
    "              'Manchester City', 'Manchester United',\n",
    "              'Newcastle United', 'Norwich City', 'Nottingham Forest',\n",
    "              'Sheffield United', 'Southampton',\n",
    "              'Tottenham Hotspur',\n",
    "              'Watford', 'West Bromwich Albion', 'West Ham United', 'Wolverhampton Wanderers'\n",
    "              ]"
   ]
  },
  {
   "cell_type": "markdown",
   "metadata": {},
   "source": [
    "# PIPELINE - NEED TO IMPORT MATCHS DATAFRAME"
   ]
  },
  {
   "cell_type": "code",
   "execution_count": null,
   "metadata": {},
   "outputs": [],
   "source": [
    "# Assuming is your DataFrame, 'team_name' is the name of the team, and 'team' is the column with team names\n",
    "# subtract 1 from the team code in the User_input dataframe to get the team name from the teams_list and store as a veriable\n",
    "team_1_name = teams_list[user_input[\"team_code\"].values[0] - 1]\n",
    "team_1_data = matches.loc[matches['team'] == team_1_name, team_1_columns]\n",
    "# subtract 1 from the opp_code in the User_input dataframe to get the team name from the teams_list and store as a veriable\n",
    "team_2_name = teams_list[user_input[\"opp_code\"].values[0] - 1]\n",
    "team_2_data = matches.loc[matches['team'] == team_2_name, team_2_columns]\n",
    "# Get the last row\n",
    "last_values_1 = team_1_data.iloc[-1]\n",
    "last_values_2 = team_2_data.iloc[-1]\n",
    "\n",
    "#create a new DataFrame with the last values 1 using the 'team_1_columns' as column names\n",
    "team_1_last_values = pd.DataFrame(last_values_1.values.reshape(1, -1), columns=team_1_columns)\n",
    "display(team_1_last_values)\n",
    "#create a new DataFrame with the last values 2 using the 'opponent_column_headings' as column names\n",
    "team_2_last_values = pd.DataFrame(last_values_2.values.reshape(1, -1), columns=opponent_columns_heading)\n",
    "display(team_2_last_values)\n",
    "#create a new dataframe with the user input using the 'user_input_columns' as column names\n",
    "user_input_df = pd.DataFrame(np.array(user_input).reshape(1, -1), columns=user_input_columns)\n",
    "display(user_input_df)"
   ]
  },
  {
   "cell_type": "code",
   "execution_count": null,
   "metadata": {},
   "outputs": [],
   "source": [
    "#concatenate the 'user_input_df''team_1_last_values', and 'team_2_last_values', DataFrames along the columns\n",
    "combined_df = pd.concat([user_input_df, team_1_last_values, team_2_last_values], axis=1)\n",
    "combined_df"
   ]
  },
  {
   "cell_type": "code",
   "execution_count": null,
   "metadata": {},
   "outputs": [],
   "source": [
    "#Calculate the comparison stats and add them to the dataframecomparison Stats\n",
    "def calculate_differentials(combined_df, window):\n",
    "    # Calculate the stat difference between the team and the opponent\n",
    "    combined_df['last_{}_gd'.format(window)] = combined_df['last_{}_gf'.format(window)] - combined_df['last_{}_ga'.format(window)]\n",
    "    combined_df['opp_last_{}_gd'.format(window)] = combined_df['opp_last_{}_gf'.format(window)] - combined_df['opp_last_{}_ga'.format(window)]\n",
    "    combined_df['last_{}_gd_diff'.format(window)] = combined_df['last_{}_gd'.format(window)] - combined_df['opp_last_{}_gd'.format(window)]\n",
    "    combined_df['last_{}_avg_poss_diff'.format(window)] = combined_df['last_{}_avg_poss'.format(window)] - combined_df['opp_last_{}_avg_poss'.format(window)]\n",
    "\n",
    "    return combined_df\n",
    "\n",
    "combined_df = calculate_differentials(combined_df, 3)\n",
    "combined_df.head()"
   ]
  },
  {
   "cell_type": "code",
   "execution_count": null,
   "metadata": {},
   "outputs": [],
   "source": [
    "preds = rf_model.predict(combined_df)\n",
    "preds"
   ]
  }
 ],
 "metadata": {
  "kernelspec": {
   "display_name": "dev",
   "language": "python",
   "name": "python3"
  },
  "language_info": {
   "codemirror_mode": {
    "name": "ipython",
    "version": 3
   },
   "file_extension": ".py",
   "mimetype": "text/x-python",
   "name": "python",
   "nbconvert_exporter": "python",
   "pygments_lexer": "ipython3",
   "version": "3.10.13"
  }
 },
 "nbformat": 4,
 "nbformat_minor": 2
}
