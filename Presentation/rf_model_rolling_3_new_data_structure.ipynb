{
 "cells": [
  {
   "cell_type": "code",
   "execution_count": 1,
   "metadata": {},
   "outputs": [],
   "source": [
    "#Dependencies\n",
    "import pandas as pd\n",
    "import numpy as np\n",
    "from sklearn.model_selection import train_test_split\n",
    "from sklearn.metrics import classification_report\n",
    "from sklearn.metrics import accuracy_score\n",
    "from sklearn.ensemble import RandomForestClassifier\n",
    "from sklearn.model_selection import GridSearchCV\n",
    "from sklearn.model_selection import cross_val_score\n",
    "from sklearn.ensemble import GradientBoostingClassifier\n"
   ]
  },
  {
   "cell_type": "code",
   "execution_count": 2,
   "metadata": {},
   "outputs": [
    {
     "data": {
      "text/html": [
       "<div>\n",
       "<style scoped>\n",
       "    .dataframe tbody tr th:only-of-type {\n",
       "        vertical-align: middle;\n",
       "    }\n",
       "\n",
       "    .dataframe tbody tr th {\n",
       "        vertical-align: top;\n",
       "    }\n",
       "\n",
       "    .dataframe thead th {\n",
       "        text-align: right;\n",
       "    }\n",
       "</style>\n",
       "<table border=\"1\" class=\"dataframe\">\n",
       "  <thead>\n",
       "    <tr style=\"text-align: right;\">\n",
       "      <th></th>\n",
       "      <th>venue_code</th>\n",
       "      <th>opp_code</th>\n",
       "      <th>hour</th>\n",
       "      <th>day_code</th>\n",
       "      <th>team_code</th>\n",
       "      <th>season</th>\n",
       "      <th>round</th>\n",
       "      <th>date</th>\n",
       "      <th>time</th>\n",
       "      <th>day</th>\n",
       "      <th>...</th>\n",
       "      <th>last_3_ga_2</th>\n",
       "      <th>last_3_avg_poss_2</th>\n",
       "      <th>last_3_avg_sot_2</th>\n",
       "      <th>opp_last_3_gd</th>\n",
       "      <th>last_3_gd_diff</th>\n",
       "      <th>last_3_avg_poss_diff</th>\n",
       "      <th>last_3_avg_sot_diff</th>\n",
       "      <th>last_3_results_diff</th>\n",
       "      <th>target</th>\n",
       "      <th>target_2</th>\n",
       "    </tr>\n",
       "  </thead>\n",
       "  <tbody>\n",
       "    <tr>\n",
       "      <th>0</th>\n",
       "      <td>0</td>\n",
       "      <td>26</td>\n",
       "      <td>14</td>\n",
       "      <td>6</td>\n",
       "      <td>1</td>\n",
       "      <td>2024</td>\n",
       "      <td>29</td>\n",
       "      <td>2024-03-17</td>\n",
       "      <td>14:00</td>\n",
       "      <td>Sun</td>\n",
       "      <td>...</td>\n",
       "      <td>9.0</td>\n",
       "      <td>46.000000</td>\n",
       "      <td>5.000000</td>\n",
       "      <td>-4.0</td>\n",
       "      <td>3.0</td>\n",
       "      <td>2.000000</td>\n",
       "      <td>0.000000</td>\n",
       "      <td>-1.0</td>\n",
       "      <td>-1.0</td>\n",
       "      <td>0.0</td>\n",
       "    </tr>\n",
       "    <tr>\n",
       "      <th>1</th>\n",
       "      <td>1</td>\n",
       "      <td>1</td>\n",
       "      <td>14</td>\n",
       "      <td>6</td>\n",
       "      <td>26</td>\n",
       "      <td>2024</td>\n",
       "      <td>29</td>\n",
       "      <td>2024-03-17</td>\n",
       "      <td>14:00</td>\n",
       "      <td>Sun</td>\n",
       "      <td>...</td>\n",
       "      <td>7.0</td>\n",
       "      <td>48.000000</td>\n",
       "      <td>5.000000</td>\n",
       "      <td>1.0</td>\n",
       "      <td>3.0</td>\n",
       "      <td>-2.000000</td>\n",
       "      <td>0.000000</td>\n",
       "      <td>0.0</td>\n",
       "      <td>-1.0</td>\n",
       "      <td>0.0</td>\n",
       "    </tr>\n",
       "    <tr>\n",
       "      <th>2</th>\n",
       "      <td>1</td>\n",
       "      <td>23</td>\n",
       "      <td>17</td>\n",
       "      <td>5</td>\n",
       "      <td>10</td>\n",
       "      <td>2024</td>\n",
       "      <td>29</td>\n",
       "      <td>2024-03-16</td>\n",
       "      <td>17:30</td>\n",
       "      <td>Sat</td>\n",
       "      <td>...</td>\n",
       "      <td>8.0</td>\n",
       "      <td>72.333333</td>\n",
       "      <td>5.000000</td>\n",
       "      <td>-5.0</td>\n",
       "      <td>8.0</td>\n",
       "      <td>-30.666667</td>\n",
       "      <td>0.333333</td>\n",
       "      <td>0.0</td>\n",
       "      <td>1.0</td>\n",
       "      <td>-1.0</td>\n",
       "    </tr>\n",
       "    <tr>\n",
       "      <th>3</th>\n",
       "      <td>1</td>\n",
       "      <td>3</td>\n",
       "      <td>15</td>\n",
       "      <td>5</td>\n",
       "      <td>5</td>\n",
       "      <td>2024</td>\n",
       "      <td>29</td>\n",
       "      <td>2024-03-16</td>\n",
       "      <td>15:00</td>\n",
       "      <td>Sat</td>\n",
       "      <td>...</td>\n",
       "      <td>5.0</td>\n",
       "      <td>40.333333</td>\n",
       "      <td>5.333333</td>\n",
       "      <td>3.0</td>\n",
       "      <td>-8.0</td>\n",
       "      <td>15.000000</td>\n",
       "      <td>-2.333333</td>\n",
       "      <td>-1.0</td>\n",
       "      <td>1.0</td>\n",
       "      <td>-1.0</td>\n",
       "    </tr>\n",
       "    <tr>\n",
       "      <th>4</th>\n",
       "      <td>0</td>\n",
       "      <td>15</td>\n",
       "      <td>15</td>\n",
       "      <td>5</td>\n",
       "      <td>20</td>\n",
       "      <td>2024</td>\n",
       "      <td>29</td>\n",
       "      <td>2024-03-16</td>\n",
       "      <td>15:00</td>\n",
       "      <td>Sat</td>\n",
       "      <td>...</td>\n",
       "      <td>4.0</td>\n",
       "      <td>45.666667</td>\n",
       "      <td>3.000000</td>\n",
       "      <td>4.0</td>\n",
       "      <td>-8.0</td>\n",
       "      <td>-9.000000</td>\n",
       "      <td>0.000000</td>\n",
       "      <td>-1.0</td>\n",
       "      <td>-1.0</td>\n",
       "      <td>0.0</td>\n",
       "    </tr>\n",
       "  </tbody>\n",
       "</table>\n",
       "<p>5 rows × 59 columns</p>\n",
       "</div>"
      ],
      "text/plain": [
       "   venue_code  opp_code  hour  day_code  team_code  season  round        date  \\\n",
       "0           0        26    14         6          1    2024     29  2024-03-17   \n",
       "1           1         1    14         6         26    2024     29  2024-03-17   \n",
       "2           1        23    17         5         10    2024     29  2024-03-16   \n",
       "3           1         3    15         5          5    2024     29  2024-03-16   \n",
       "4           0        15    15         5         20    2024     29  2024-03-16   \n",
       "\n",
       "    time  day  ... last_3_ga_2 last_3_avg_poss_2 last_3_avg_sot_2  \\\n",
       "0  14:00  Sun  ...         9.0         46.000000         5.000000   \n",
       "1  14:00  Sun  ...         7.0         48.000000         5.000000   \n",
       "2  17:30  Sat  ...         8.0         72.333333         5.000000   \n",
       "3  15:00  Sat  ...         5.0         40.333333         5.333333   \n",
       "4  15:00  Sat  ...         4.0         45.666667         3.000000   \n",
       "\n",
       "   opp_last_3_gd  last_3_gd_diff  last_3_avg_poss_diff  last_3_avg_sot_diff  \\\n",
       "0           -4.0             3.0              2.000000             0.000000   \n",
       "1            1.0             3.0             -2.000000             0.000000   \n",
       "2           -5.0             8.0            -30.666667             0.333333   \n",
       "3            3.0            -8.0             15.000000            -2.333333   \n",
       "4            4.0            -8.0             -9.000000             0.000000   \n",
       "\n",
       "   last_3_results_diff  target  target_2  \n",
       "0                 -1.0    -1.0       0.0  \n",
       "1                  0.0    -1.0       0.0  \n",
       "2                  0.0     1.0      -1.0  \n",
       "3                 -1.0     1.0      -1.0  \n",
       "4                 -1.0    -1.0       0.0  \n",
       "\n",
       "[5 rows x 59 columns]"
      ]
     },
     "execution_count": 2,
     "metadata": {},
     "output_type": "execute_result"
    }
   ],
   "source": [
    "#load in datasets\n",
    "matches = pd.read_csv(\"Resources/epl_matches_combined.csv\", index_col=0) \n",
    "matches.head()\n"
   ]
  },
  {
   "cell_type": "code",
   "execution_count": 3,
   "metadata": {},
   "outputs": [],
   "source": [
    "# Define the list of features that we want to include in our model. This will be used as the X values. \n",
    "#Features can be added or removed to see how it affects the model.\n",
    "\n",
    "# Define the list of predictors including venue code, opponent code, hour, and day code.\n",
    "predictors = ['venue_code', 'opp_code', 'hour', 'day_code','team_code','last_3_results','last_3_results_2', 'xg', 'xga', 'xg_2', 'xga_2' ]\n",
    "            \n",
    "# Team 1 features \n",
    "\n",
    "# 'xg', 'xga'\n",
    "# 'formation_code','last_3_results','last_3_gf', 'last_3_ga',\n",
    "# 'last_3_avg_poss', 'last_3_avg_sot', 'last_3_gd' \n",
    "\n",
    "# # Team 2 features\n",
    "\n",
    "# 'last_3_results_2' 'xg_2', 'xga_2' \n",
    "# 'formation_code_2', 'last_3_gf_2'\n",
    "# 'last_3_ga_2', 'last_3_avg_poss_2'\n",
    "# 'last_3_avg_sot_2','opp_last_3_gd'\n",
    "\n",
    "# # Compare the two teams' features\n",
    "\n",
    "#  'last_3_gd_diff', 'last_3_avg_poss_diff','last_3_avg_sot_diff', 'last_3_results_diff'"
   ]
  },
  {
   "cell_type": "code",
   "execution_count": 4,
   "metadata": {},
   "outputs": [],
   "source": [
    "# # Define the features (predictors) and the target variable\n",
    "X = matches[predictors]\n",
    "y = matches[\"target\"]\n",
    "\n",
    "# # Split the data into training and testing sets with a ratio of 70% training and 30% testing\n",
    "X_train, X_test, y_train, y_test = train_test_split(X, y, test_size=0.30, random_state=1)"
   ]
  },
  {
   "cell_type": "markdown",
   "metadata": {},
   "source": [
    "### Random Forest Classifer"
   ]
  },
  {
   "cell_type": "code",
   "execution_count": 5,
   "metadata": {},
   "outputs": [
    {
     "name": "stdout",
     "output_type": "stream",
     "text": [
      "Training Accuracy: 0.8599476439790575\n",
      "Testing Accuracy: 0.7358778625954199\n"
     ]
    }
   ],
   "source": [
    "# # Initialize a Random Forest classifier with 50 trees, minimum samples split of 10, and a fixed random state.\n",
    "rf_model = RandomForestClassifier(n_estimators=50, max_depth=10, min_samples_split=10, random_state=1)\n",
    "\n",
    "# # Train the Random Forest classifier on the training data using specified predictors.\n",
    "rf_model = rf_model.fit(X_train, y_train)\n",
    "\n",
    "# Generate predictions using the trained Random Forest classifier on the test data using specified predictors.\n",
    "# # Train the Random Forest classifier on the training data using specified predictors.\n",
    "preds = rf_model.predict(X_test)\n",
    "\n",
    "# Evaluate the best model on the training set\n",
    "train_accuracy = rf_model.score(X_train, y_train)\n",
    "print(\"Training Accuracy:\", train_accuracy)\n",
    "\n",
    "# Evaluate the best model on the test set\n",
    "test_accuracy = rf_model.score(X_test, y_test)\n",
    "print(\"Testing Accuracy:\", test_accuracy)"
   ]
  },
  {
   "cell_type": "code",
   "execution_count": 6,
   "metadata": {},
   "outputs": [
    {
     "data": {
      "text/html": [
       "<div>\n",
       "<style scoped>\n",
       "    .dataframe tbody tr th:only-of-type {\n",
       "        vertical-align: middle;\n",
       "    }\n",
       "\n",
       "    .dataframe tbody tr th {\n",
       "        vertical-align: top;\n",
       "    }\n",
       "\n",
       "    .dataframe thead th {\n",
       "        text-align: right;\n",
       "    }\n",
       "</style>\n",
       "<table border=\"1\" class=\"dataframe\">\n",
       "  <thead>\n",
       "    <tr style=\"text-align: right;\">\n",
       "      <th>prediction</th>\n",
       "      <th>-1.0</th>\n",
       "      <th>1.0</th>\n",
       "    </tr>\n",
       "    <tr>\n",
       "      <th>actual</th>\n",
       "      <th></th>\n",
       "      <th></th>\n",
       "    </tr>\n",
       "  </thead>\n",
       "  <tbody>\n",
       "    <tr>\n",
       "      <th>-1.0</th>\n",
       "      <td>668</td>\n",
       "      <td>148</td>\n",
       "    </tr>\n",
       "    <tr>\n",
       "      <th>1.0</th>\n",
       "      <td>198</td>\n",
       "      <td>296</td>\n",
       "    </tr>\n",
       "  </tbody>\n",
       "</table>\n",
       "</div>"
      ],
      "text/plain": [
       "prediction  -1.0   1.0\n",
       "actual                \n",
       "-1.0         668   148\n",
       " 1.0         198   296"
      ]
     },
     "execution_count": 6,
     "metadata": {},
     "output_type": "execute_result"
    }
   ],
   "source": [
    "# Create a contingency table showing the counts of actual versus predicted labels\n",
    "combined = pd.DataFrame({\"actual\": y_test, \"prediction\": preds})\n",
    "pd.crosstab(index=combined[\"actual\"], columns=combined[\"prediction\"])"
   ]
  },
  {
   "cell_type": "code",
   "execution_count": 7,
   "metadata": {},
   "outputs": [
    {
     "data": {
      "text/html": [
       "<div>\n",
       "<style scoped>\n",
       "    .dataframe tbody tr th:only-of-type {\n",
       "        vertical-align: middle;\n",
       "    }\n",
       "\n",
       "    .dataframe tbody tr th {\n",
       "        vertical-align: top;\n",
       "    }\n",
       "\n",
       "    .dataframe thead th {\n",
       "        text-align: right;\n",
       "    }\n",
       "</style>\n",
       "<table border=\"1\" class=\"dataframe\">\n",
       "  <thead>\n",
       "    <tr style=\"text-align: right;\">\n",
       "      <th></th>\n",
       "      <th>feature</th>\n",
       "      <th>importance</th>\n",
       "    </tr>\n",
       "  </thead>\n",
       "  <tbody>\n",
       "    <tr>\n",
       "      <th>0</th>\n",
       "      <td>venue_code</td>\n",
       "      <td>0.012243</td>\n",
       "    </tr>\n",
       "    <tr>\n",
       "      <th>1</th>\n",
       "      <td>opp_code</td>\n",
       "      <td>0.085257</td>\n",
       "    </tr>\n",
       "    <tr>\n",
       "      <th>2</th>\n",
       "      <td>hour</td>\n",
       "      <td>0.042167</td>\n",
       "    </tr>\n",
       "    <tr>\n",
       "      <th>3</th>\n",
       "      <td>day_code</td>\n",
       "      <td>0.039999</td>\n",
       "    </tr>\n",
       "    <tr>\n",
       "      <th>4</th>\n",
       "      <td>team_code</td>\n",
       "      <td>0.078194</td>\n",
       "    </tr>\n",
       "    <tr>\n",
       "      <th>5</th>\n",
       "      <td>last_3_results</td>\n",
       "      <td>0.033649</td>\n",
       "    </tr>\n",
       "    <tr>\n",
       "      <th>6</th>\n",
       "      <td>last_3_results_2</td>\n",
       "      <td>0.052765</td>\n",
       "    </tr>\n",
       "    <tr>\n",
       "      <th>7</th>\n",
       "      <td>xg</td>\n",
       "      <td>0.201412</td>\n",
       "    </tr>\n",
       "    <tr>\n",
       "      <th>8</th>\n",
       "      <td>xga</td>\n",
       "      <td>0.132009</td>\n",
       "    </tr>\n",
       "    <tr>\n",
       "      <th>9</th>\n",
       "      <td>xg_2</td>\n",
       "      <td>0.165602</td>\n",
       "    </tr>\n",
       "    <tr>\n",
       "      <th>10</th>\n",
       "      <td>xga_2</td>\n",
       "      <td>0.156702</td>\n",
       "    </tr>\n",
       "  </tbody>\n",
       "</table>\n",
       "</div>"
      ],
      "text/plain": [
       "             feature  importance\n",
       "0         venue_code    0.012243\n",
       "1           opp_code    0.085257\n",
       "2               hour    0.042167\n",
       "3           day_code    0.039999\n",
       "4          team_code    0.078194\n",
       "5     last_3_results    0.033649\n",
       "6   last_3_results_2    0.052765\n",
       "7                 xg    0.201412\n",
       "8                xga    0.132009\n",
       "9               xg_2    0.165602\n",
       "10             xga_2    0.156702"
      ]
     },
     "execution_count": 7,
     "metadata": {},
     "output_type": "execute_result"
    }
   ],
   "source": [
    "# determine which feature explains the most variance in the model\n",
    "rf_importances = rf_model.feature_importances_\n",
    "# return the original feature names\n",
    "rf_feature_names = X.columns\n",
    "#create a DataFrame to display the feature importance\n",
    "rf_feature_importance = pd.DataFrame({\"feature\": rf_feature_names, \"importance\": rf_importances})\n",
    "rf_feature_importance"
   ]
  },
  {
   "cell_type": "code",
   "execution_count": 8,
   "metadata": {},
   "outputs": [
    {
     "data": {
      "text/plain": [
       "<Axes: xlabel='importance', ylabel='feature'>"
      ]
     },
     "execution_count": 8,
     "metadata": {},
     "output_type": "execute_result"
    },
    {
     "data": {
      "image/png": "[encoded data removed]",
      "text/plain": [
       "<Figure size 1000x600 with 1 Axes>"
      ]
     },
     "metadata": {},
     "output_type": "display_data"
    }
   ],
   "source": [
    "#create a bar plot to visualize the feature importance\n",
    "import matplotlib.pyplot as plt\n",
    "import seaborn as sns\n",
    "plt.figure(figsize=(10, 6))\n",
    "sns.barplot(x=\"importance\", y=\"feature\", data=rf_feature_importance.sort_values(by=\"importance\", ascending=False))"
   ]
  },
  {
   "cell_type": "code",
   "execution_count": 9,
   "metadata": {},
   "outputs": [
    {
     "name": "stdout",
     "output_type": "stream",
     "text": [
      "              precision    recall  f1-score   support\n",
      "\n",
      "        -1.0       0.77      0.82      0.79       816\n",
      "         1.0       0.67      0.60      0.63       494\n",
      "\n",
      "    accuracy                           0.74      1310\n",
      "   macro avg       0.72      0.71      0.71      1310\n",
      "weighted avg       0.73      0.74      0.73      1310\n",
      "\n"
     ]
    }
   ],
   "source": [
    "# Generate classification report\n",
    "print(classification_report(y_test, preds))\n"
   ]
  },
  {
   "cell_type": "markdown",
   "metadata": {},
   "source": [
    "### Gradient Boosting Classifer"
   ]
  },
  {
   "cell_type": "code",
   "execution_count": 10,
   "metadata": {},
   "outputs": [
    {
     "name": "stdout",
     "output_type": "stream",
     "text": [
      "Training Accuracy: 0.762107329842932\n",
      "Testing Accuracy: 0.749618320610687\n"
     ]
    }
   ],
   "source": [
    "# Initialize Gradient Boosting Classifier\n",
    "gb_model = GradientBoostingClassifier(n_estimators=50, learning_rate=0.1, max_depth=3, random_state=1)\n",
    "# Train Gradient Boosting Classifier on the training data\n",
    "gb_model.fit(X_train, y_train)\n",
    "# Predictions\n",
    "gb_preds = gb_model.predict(X_test)\n",
    "gb_preds_train = gb_model.predict(X_train)\n",
    "# Reshape the gb_preds_train array\n",
    "gb_preds_train = gb_preds_train.reshape(-1, 1)\n",
    "# Reshape the gb_preds array\n",
    "gb_preds = gb_preds.reshape(-1, 1)\n",
    "# Evaluate the best model on the training set\n",
    "boost_train_accuracy = gb_model.score(X_train, y_train)\n",
    "print(\"Training Accuracy:\", boost_train_accuracy)\n",
    "# Evaluate the best model on the test set\n",
    "boost_test_accuracy = gb_model.score(X_test, y_test)\n",
    "print(\"Testing Accuracy:\", boost_test_accuracy)"
   ]
  },
  {
   "cell_type": "code",
   "execution_count": 12,
   "metadata": {},
   "outputs": [
    {
     "data": {
      "text/html": [
       "<div>\n",
       "<style scoped>\n",
       "    .dataframe tbody tr th:only-of-type {\n",
       "        vertical-align: middle;\n",
       "    }\n",
       "\n",
       "    .dataframe tbody tr th {\n",
       "        vertical-align: top;\n",
       "    }\n",
       "\n",
       "    .dataframe thead th {\n",
       "        text-align: right;\n",
       "    }\n",
       "</style>\n",
       "<table border=\"1\" class=\"dataframe\">\n",
       "  <thead>\n",
       "    <tr style=\"text-align: right;\">\n",
       "      <th>prediction</th>\n",
       "      <th>-1.0</th>\n",
       "      <th>1.0</th>\n",
       "    </tr>\n",
       "    <tr>\n",
       "      <th>actual</th>\n",
       "      <th></th>\n",
       "      <th></th>\n",
       "    </tr>\n",
       "  </thead>\n",
       "  <tbody>\n",
       "    <tr>\n",
       "      <th>-1.0</th>\n",
       "      <td>677</td>\n",
       "      <td>139</td>\n",
       "    </tr>\n",
       "    <tr>\n",
       "      <th>1.0</th>\n",
       "      <td>189</td>\n",
       "      <td>305</td>\n",
       "    </tr>\n",
       "  </tbody>\n",
       "</table>\n",
       "</div>"
      ],
      "text/plain": [
       "prediction  -1.0   1.0\n",
       "actual                \n",
       "-1.0         677   139\n",
       " 1.0         189   305"
      ]
     },
     "execution_count": 12,
     "metadata": {},
     "output_type": "execute_result"
    }
   ],
   "source": [
    "# Create a contingency table showing the counts of actual versus predicted labels\n",
    "gb_combined = pd.DataFrame({\"actual\": y_test, \"prediction\": gb_preds.reshape(-1)})\n",
    "pd.crosstab(index=gb_combined[\"actual\"], columns=gb_combined[\"prediction\"])"
   ]
  },
  {
   "cell_type": "code",
   "execution_count": 13,
   "metadata": {},
   "outputs": [
    {
     "data": {
      "text/html": [
       "<div>\n",
       "<style scoped>\n",
       "    .dataframe tbody tr th:only-of-type {\n",
       "        vertical-align: middle;\n",
       "    }\n",
       "\n",
       "    .dataframe tbody tr th {\n",
       "        vertical-align: top;\n",
       "    }\n",
       "\n",
       "    .dataframe thead th {\n",
       "        text-align: right;\n",
       "    }\n",
       "</style>\n",
       "<table border=\"1\" class=\"dataframe\">\n",
       "  <thead>\n",
       "    <tr style=\"text-align: right;\">\n",
       "      <th></th>\n",
       "      <th>feature</th>\n",
       "      <th>importance</th>\n",
       "    </tr>\n",
       "  </thead>\n",
       "  <tbody>\n",
       "    <tr>\n",
       "      <th>0</th>\n",
       "      <td>venue_code</td>\n",
       "      <td>0.001491</td>\n",
       "    </tr>\n",
       "    <tr>\n",
       "      <th>1</th>\n",
       "      <td>opp_code</td>\n",
       "      <td>0.036913</td>\n",
       "    </tr>\n",
       "    <tr>\n",
       "      <th>2</th>\n",
       "      <td>hour</td>\n",
       "      <td>0.004963</td>\n",
       "    </tr>\n",
       "    <tr>\n",
       "      <th>3</th>\n",
       "      <td>day_code</td>\n",
       "      <td>0.004794</td>\n",
       "    </tr>\n",
       "    <tr>\n",
       "      <th>4</th>\n",
       "      <td>team_code</td>\n",
       "      <td>0.047386</td>\n",
       "    </tr>\n",
       "    <tr>\n",
       "      <th>5</th>\n",
       "      <td>last_3_results</td>\n",
       "      <td>0.007603</td>\n",
       "    </tr>\n",
       "    <tr>\n",
       "      <th>6</th>\n",
       "      <td>last_3_results_2</td>\n",
       "      <td>0.021165</td>\n",
       "    </tr>\n",
       "    <tr>\n",
       "      <th>7</th>\n",
       "      <td>xg</td>\n",
       "      <td>0.319812</td>\n",
       "    </tr>\n",
       "    <tr>\n",
       "      <th>8</th>\n",
       "      <td>xga</td>\n",
       "      <td>0.153507</td>\n",
       "    </tr>\n",
       "    <tr>\n",
       "      <th>9</th>\n",
       "      <td>xg_2</td>\n",
       "      <td>0.171425</td>\n",
       "    </tr>\n",
       "    <tr>\n",
       "      <th>10</th>\n",
       "      <td>xga_2</td>\n",
       "      <td>0.230941</td>\n",
       "    </tr>\n",
       "  </tbody>\n",
       "</table>\n",
       "</div>"
      ],
      "text/plain": [
       "             feature  importance\n",
       "0         venue_code    0.001491\n",
       "1           opp_code    0.036913\n",
       "2               hour    0.004963\n",
       "3           day_code    0.004794\n",
       "4          team_code    0.047386\n",
       "5     last_3_results    0.007603\n",
       "6   last_3_results_2    0.021165\n",
       "7                 xg    0.319812\n",
       "8                xga    0.153507\n",
       "9               xg_2    0.171425\n",
       "10             xga_2    0.230941"
      ]
     },
     "execution_count": 13,
     "metadata": {},
     "output_type": "execute_result"
    }
   ],
   "source": [
    "# determine which feature explains the most variance in the model\n",
    "importances = gb_model.feature_importances_\n",
    "# return the original feature names\n",
    "feature_names = X.columns\n",
    "#create a DataFrame to display the feature importance\n",
    "feature_importance = pd.DataFrame({\"feature\": feature_names, \"importance\": importances})\n",
    "feature_importance"
   ]
  },
  {
   "cell_type": "code",
   "execution_count": null,
   "metadata": {},
   "outputs": [
    {
     "data": {
      "text/plain": [
       "<Axes: xlabel='importance', ylabel='feature'>"
      ]
     },
     "execution_count": 13,
     "metadata": {},
     "output_type": "execute_result"
    },
    {
     "data": {
      "image/png": "[encoded data removed]",
      "text/plain": [
       "<Figure size 1000x600 with 1 Axes>"
      ]
     },
     "metadata": {},
     "output_type": "display_data"
    }
   ],
   "source": [
    "#create a bar plot to visualize the feature importance\n",
    "import matplotlib.pyplot as plt\n",
    "import seaborn as sns\n",
    "plt.figure(figsize=(10, 6))\n",
    "sns.barplot(x=\"importance\", y=\"feature\", data=feature_importance.sort_values(by=\"importance\", ascending=False))"
   ]
  },
  {
   "cell_type": "code",
   "execution_count": 14,
   "metadata": {},
   "outputs": [
    {
     "name": "stdout",
     "output_type": "stream",
     "text": [
      "              precision    recall  f1-score   support\n",
      "\n",
      "        -1.0       0.78      0.83      0.80       816\n",
      "         1.0       0.69      0.62      0.65       494\n",
      "\n",
      "    accuracy                           0.75      1310\n",
      "   macro avg       0.73      0.72      0.73      1310\n",
      "weighted avg       0.75      0.75      0.75      1310\n",
      "\n"
     ]
    }
   ],
   "source": [
    "# Generate classification report\n",
    "print(classification_report(y_test, gb_preds))\n"
   ]
  }
 ],
 "metadata": {
  "kernelspec": {
   "display_name": "dev",
   "language": "python",
   "name": "python3"
  },
  "language_info": {
   "codemirror_mode": {
    "name": "ipython",
    "version": 3
   },
   "file_extension": ".py",
   "mimetype": "text/x-python",
   "name": "python",
   "nbconvert_exporter": "python",
   "pygments_lexer": "ipython3",
   "version": "3.10.13"
  }
 },
 "nbformat": 4,
 "nbformat_minor": 2
}
